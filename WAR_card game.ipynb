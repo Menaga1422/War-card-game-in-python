{
 "cells": [
  {
   "cell_type": "markdown",
   "metadata": {},
   "source": [
    "# Rules of card game war are:"
   ]
  },
  {
   "cell_type": "markdown",
   "metadata": {},
   "source": [
    "1. Split deck of 52 cards between two users.\n",
    "2. Each player plays a card. Higher card wins. Winner takes both cards.\n",
    "3. If cards are of same rank, then each player puts down three cards, and the third\n",
    "   card competes.\n",
    "   If a player has less than 3 cards, then they put down all of their cards\n",
    "   and their final card competes against the other player's third card.\n",
    "   Continue doing this until tie is broken.\n",
    "   Winner takes all cards.\n",
    "4. Game is over when a player doesn't have any cards. The player with\n",
    "   cards remaining is the winner."
   ]
  },
  {
   "cell_type": "code",
   "execution_count": 5,
   "metadata": {},
   "outputs": [],
   "source": [
    "import random\n",
    "suits=('Hearts','Diamonds','Spades','Clubs')\n",
    "ranks=('Two', 'Three', 'Four', 'Five', 'Six', 'Seven', 'Eight', 'Nine', 'Ten', 'Jack', 'Queen', 'King', 'Ace')\n",
    "values={'Two':2, 'Three':3, 'Four':4, 'Five':5, 'Six':6, 'Seven':7, 'Eight':8, \n",
    "            'Nine':9, 'Ten':10, 'Jack':11, 'Queen':12, 'King':13, 'Ace':14}\n",
    "\n",
    "#class to return a single card\n",
    "class Card:\n",
    "    def __init__(self,suit,rank):\n",
    "        self.suit=suit\n",
    "        self.rank=rank\n",
    "        self.value=values[rank]\n",
    "    def __str__(self):\n",
    "        return self.rank+' of '+self.suit\n"
   ]
  },
  {
   "cell_type": "code",
   "execution_count": 6,
   "metadata": {},
   "outputs": [
    {
     "name": "stdout",
     "output_type": "stream",
     "text": [
      "Two of Hearts\n"
     ]
    }
   ],
   "source": [
    "my_card=Card(suits[0],ranks[0])\n",
    "print(my_card)"
   ]
  },
  {
   "cell_type": "code",
   "execution_count": 7,
   "metadata": {},
   "outputs": [],
   "source": [
    "#class to create a deck of cards\n",
    "class Deck:\n",
    "    def __init__(self):\n",
    "        self.all_cards=[]\n",
    "        for suit in suits:\n",
    "            for rank in ranks:\n",
    "                self.all_cards.append(Card(suit,rank))\n",
    "    def shuffle(self):\n",
    "        random.shuffle(self.all_cards)\n"
   ]
  },
  {
   "cell_type": "code",
   "execution_count": 15,
   "metadata": {},
   "outputs": [
    {
     "data": {
      "text/plain": [
       "52"
      ]
     },
     "execution_count": 15,
     "metadata": {},
     "output_type": "execute_result"
    }
   ],
   "source": [
    "deck=Deck()\n",
    "deck.shuffle()\n",
    "len(deck.all_cards)"
   ]
  },
  {
   "cell_type": "code",
   "execution_count": 13,
   "metadata": {},
   "outputs": [],
   "source": [
    "class Player:\n",
    "    \n",
    "    def __init__(self,name):\n",
    "        self.name = name\n",
    "        self.cards = []\n",
    "        self.stash=[]\n",
    "    \n"
   ]
  },
  {
   "cell_type": "code",
   "execution_count": 37,
   "metadata": {},
   "outputs": [],
   "source": [
    "a=Player(\"Tara\")\n",
    "b=Player(\"Aadhi\")"
   ]
  },
  {
   "cell_type": "code",
   "execution_count": 62,
   "metadata": {},
   "outputs": [],
   "source": [
    "def play_war(deck):\n",
    "    split=int(len(deck.all_cards)/2)\n",
    "    a.cards=deck.all_cards[:split]\n",
    "    b.cards=deck.all_cards[split:]\n",
    "    a.stash=[]\n",
    "    b.stash=[]\n",
    "    \n",
    "    rounds =1\n",
    "    while a.cards and b.cards:\n",
    "        # by using pop, we're playing from the end forward\n",
    "        a_card = a.cards.pop()\n",
    "        b_card = b.cards.pop()\n",
    "\n",
    "        if a_card.rank == b_card.rank:\n",
    "            a.stash.extend([a_card]+a.cards[-3:])\n",
    "            a.cards = a.cards[:-3]\n",
    "            a.cards.append(a.stash.pop())\n",
    "\n",
    "            b.stash.extend([b_card]+b.cards[-3:])\n",
    "            b.cards = b.cards[:-3]\n",
    "            b.cards.append(b.stash.pop())\n",
    "        elif a_card.rank > b_card.rank:\n",
    "            # ordering of a.stash and b.stash is undefined by game rules\n",
    "            a.cards = [a_card, b_card] + a.stash + b.stash + a.cards\n",
    "            a.stash = []\n",
    "            b.stash = []\n",
    "        elif b_card.rank > a_card.rank:\n",
    "            # ordering of a.stash and b.stash is undefined by game rules\n",
    "            b.cards = [b_card, a_card] + b.stash + a.stash + b.cards\n",
    "            a.stash = []\n",
    "            b.stash = []\n",
    "\n",
    "        print(\"round %s: %s: cards: %s, stash:%s   %s: cards:%s, stash:%s\" %(rounds,a.name,len(a.cards),len(a.stash),b.name,len(b.cards), len(b.stash)))\n",
    "        rounds +=1\n",
    "    if(len(a.cards)>len(b.cards)):\n",
    "        print(\"%s won\"%(a.name))\n",
    "    else:\n",
    "        print(\"%s won\"%(b.name))\n",
    "\n"
   ]
  },
  {
   "cell_type": "code",
   "execution_count": 63,
   "metadata": {},
   "outputs": [
    {
     "name": "stdout",
     "output_type": "stream",
     "text": [
      "round 1: Tara: cards: 27, stash:0   Aadhi: cards:25, stash:0\n",
      "round 2: Tara: cards: 26, stash:0   Aadhi: cards:26, stash:0\n",
      "round 3: Tara: cards: 25, stash:0   Aadhi: cards:27, stash:0\n",
      "round 4: Tara: cards: 24, stash:0   Aadhi: cards:28, stash:0\n",
      "round 5: Tara: cards: 23, stash:0   Aadhi: cards:29, stash:0\n",
      "round 6: Tara: cards: 22, stash:0   Aadhi: cards:30, stash:0\n",
      "round 7: Tara: cards: 19, stash:3   Aadhi: cards:27, stash:3\n",
      "round 8: Tara: cards: 26, stash:0   Aadhi: cards:26, stash:0\n",
      "round 9: Tara: cards: 27, stash:0   Aadhi: cards:25, stash:0\n",
      "round 10: Tara: cards: 28, stash:0   Aadhi: cards:24, stash:0\n",
      "round 11: Tara: cards: 29, stash:0   Aadhi: cards:23, stash:0\n",
      "round 12: Tara: cards: 28, stash:0   Aadhi: cards:24, stash:0\n",
      "round 13: Tara: cards: 27, stash:0   Aadhi: cards:25, stash:0\n",
      "round 14: Tara: cards: 28, stash:0   Aadhi: cards:24, stash:0\n",
      "round 15: Tara: cards: 29, stash:0   Aadhi: cards:23, stash:0\n",
      "round 16: Tara: cards: 30, stash:0   Aadhi: cards:22, stash:0\n",
      "round 17: Tara: cards: 31, stash:0   Aadhi: cards:21, stash:0\n",
      "round 18: Tara: cards: 28, stash:3   Aadhi: cards:18, stash:3\n",
      "round 19: Tara: cards: 27, stash:0   Aadhi: cards:25, stash:0\n",
      "round 20: Tara: cards: 28, stash:0   Aadhi: cards:24, stash:0\n",
      "round 21: Tara: cards: 29, stash:0   Aadhi: cards:23, stash:0\n",
      "round 22: Tara: cards: 30, stash:0   Aadhi: cards:22, stash:0\n",
      "round 23: Tara: cards: 29, stash:0   Aadhi: cards:23, stash:0\n",
      "round 24: Tara: cards: 28, stash:0   Aadhi: cards:24, stash:0\n",
      "round 25: Tara: cards: 29, stash:0   Aadhi: cards:23, stash:0\n",
      "round 26: Tara: cards: 28, stash:0   Aadhi: cards:24, stash:0\n",
      "round 27: Tara: cards: 27, stash:0   Aadhi: cards:25, stash:0\n",
      "round 28: Tara: cards: 26, stash:0   Aadhi: cards:26, stash:0\n",
      "round 29: Tara: cards: 25, stash:0   Aadhi: cards:27, stash:0\n",
      "round 30: Tara: cards: 24, stash:0   Aadhi: cards:28, stash:0\n",
      "round 31: Tara: cards: 25, stash:0   Aadhi: cards:27, stash:0\n",
      "round 32: Tara: cards: 26, stash:0   Aadhi: cards:26, stash:0\n",
      "round 33: Tara: cards: 25, stash:0   Aadhi: cards:27, stash:0\n",
      "round 34: Tara: cards: 26, stash:0   Aadhi: cards:26, stash:0\n",
      "round 35: Tara: cards: 27, stash:0   Aadhi: cards:25, stash:0\n",
      "round 36: Tara: cards: 28, stash:0   Aadhi: cards:24, stash:0\n",
      "round 37: Tara: cards: 27, stash:0   Aadhi: cards:25, stash:0\n",
      "round 38: Tara: cards: 28, stash:0   Aadhi: cards:24, stash:0\n",
      "round 39: Tara: cards: 27, stash:0   Aadhi: cards:25, stash:0\n",
      "round 40: Tara: cards: 28, stash:0   Aadhi: cards:24, stash:0\n",
      "round 41: Tara: cards: 29, stash:0   Aadhi: cards:23, stash:0\n",
      "round 42: Tara: cards: 30, stash:0   Aadhi: cards:22, stash:0\n",
      "round 43: Tara: cards: 31, stash:0   Aadhi: cards:21, stash:0\n",
      "round 44: Tara: cards: 30, stash:0   Aadhi: cards:22, stash:0\n",
      "round 45: Tara: cards: 31, stash:0   Aadhi: cards:21, stash:0\n",
      "round 46: Tara: cards: 32, stash:0   Aadhi: cards:20, stash:0\n",
      "round 47: Tara: cards: 31, stash:0   Aadhi: cards:21, stash:0\n",
      "round 48: Tara: cards: 28, stash:3   Aadhi: cards:18, stash:3\n",
      "round 49: Tara: cards: 27, stash:0   Aadhi: cards:25, stash:0\n",
      "round 50: Tara: cards: 28, stash:0   Aadhi: cards:24, stash:0\n",
      "round 51: Tara: cards: 27, stash:0   Aadhi: cards:25, stash:0\n",
      "round 52: Tara: cards: 28, stash:0   Aadhi: cards:24, stash:0\n",
      "round 53: Tara: cards: 27, stash:0   Aadhi: cards:25, stash:0\n",
      "round 54: Tara: cards: 26, stash:0   Aadhi: cards:26, stash:0\n",
      "round 55: Tara: cards: 25, stash:0   Aadhi: cards:27, stash:0\n",
      "round 56: Tara: cards: 24, stash:0   Aadhi: cards:28, stash:0\n",
      "round 57: Tara: cards: 25, stash:0   Aadhi: cards:27, stash:0\n",
      "round 58: Tara: cards: 26, stash:0   Aadhi: cards:26, stash:0\n",
      "round 59: Tara: cards: 27, stash:0   Aadhi: cards:25, stash:0\n",
      "round 60: Tara: cards: 28, stash:0   Aadhi: cards:24, stash:0\n",
      "round 61: Tara: cards: 29, stash:0   Aadhi: cards:23, stash:0\n",
      "round 62: Tara: cards: 30, stash:0   Aadhi: cards:22, stash:0\n",
      "round 63: Tara: cards: 31, stash:0   Aadhi: cards:21, stash:0\n",
      "round 64: Tara: cards: 32, stash:0   Aadhi: cards:20, stash:0\n",
      "round 65: Tara: cards: 33, stash:0   Aadhi: cards:19, stash:0\n",
      "round 66: Tara: cards: 34, stash:0   Aadhi: cards:18, stash:0\n",
      "round 67: Tara: cards: 33, stash:0   Aadhi: cards:19, stash:0\n",
      "round 68: Tara: cards: 32, stash:0   Aadhi: cards:20, stash:0\n",
      "round 69: Tara: cards: 31, stash:0   Aadhi: cards:21, stash:0\n",
      "round 70: Tara: cards: 28, stash:3   Aadhi: cards:18, stash:3\n",
      "round 71: Tara: cards: 27, stash:0   Aadhi: cards:25, stash:0\n",
      "round 72: Tara: cards: 24, stash:3   Aadhi: cards:22, stash:3\n",
      "round 73: Tara: cards: 31, stash:0   Aadhi: cards:21, stash:0\n",
      "round 74: Tara: cards: 32, stash:0   Aadhi: cards:20, stash:0\n",
      "round 75: Tara: cards: 33, stash:0   Aadhi: cards:19, stash:0\n",
      "round 76: Tara: cards: 34, stash:0   Aadhi: cards:18, stash:0\n",
      "round 77: Tara: cards: 33, stash:0   Aadhi: cards:19, stash:0\n",
      "round 78: Tara: cards: 32, stash:0   Aadhi: cards:20, stash:0\n",
      "round 79: Tara: cards: 31, stash:0   Aadhi: cards:21, stash:0\n",
      "round 80: Tara: cards: 30, stash:0   Aadhi: cards:22, stash:0\n",
      "round 81: Tara: cards: 27, stash:3   Aadhi: cards:19, stash:3\n",
      "round 82: Tara: cards: 34, stash:0   Aadhi: cards:18, stash:0\n",
      "round 83: Tara: cards: 33, stash:0   Aadhi: cards:19, stash:0\n",
      "round 84: Tara: cards: 32, stash:0   Aadhi: cards:20, stash:0\n",
      "round 85: Tara: cards: 33, stash:0   Aadhi: cards:19, stash:0\n",
      "round 86: Tara: cards: 34, stash:0   Aadhi: cards:18, stash:0\n",
      "round 87: Tara: cards: 33, stash:0   Aadhi: cards:19, stash:0\n",
      "round 88: Tara: cards: 34, stash:0   Aadhi: cards:18, stash:0\n",
      "round 89: Tara: cards: 35, stash:0   Aadhi: cards:17, stash:0\n",
      "round 90: Tara: cards: 36, stash:0   Aadhi: cards:16, stash:0\n",
      "round 91: Tara: cards: 35, stash:0   Aadhi: cards:17, stash:0\n",
      "round 92: Tara: cards: 34, stash:0   Aadhi: cards:18, stash:0\n",
      "round 93: Tara: cards: 35, stash:0   Aadhi: cards:17, stash:0\n",
      "round 94: Tara: cards: 36, stash:0   Aadhi: cards:16, stash:0\n",
      "round 95: Tara: cards: 37, stash:0   Aadhi: cards:15, stash:0\n",
      "round 96: Tara: cards: 36, stash:0   Aadhi: cards:16, stash:0\n",
      "round 97: Tara: cards: 37, stash:0   Aadhi: cards:15, stash:0\n",
      "round 98: Tara: cards: 38, stash:0   Aadhi: cards:14, stash:0\n",
      "round 99: Tara: cards: 39, stash:0   Aadhi: cards:13, stash:0\n",
      "round 100: Tara: cards: 38, stash:0   Aadhi: cards:14, stash:0\n",
      "round 101: Tara: cards: 37, stash:0   Aadhi: cards:15, stash:0\n",
      "round 102: Tara: cards: 38, stash:0   Aadhi: cards:14, stash:0\n",
      "round 103: Tara: cards: 37, stash:0   Aadhi: cards:15, stash:0\n",
      "round 104: Tara: cards: 38, stash:0   Aadhi: cards:14, stash:0\n",
      "round 105: Tara: cards: 37, stash:0   Aadhi: cards:15, stash:0\n",
      "round 106: Tara: cards: 38, stash:0   Aadhi: cards:14, stash:0\n",
      "round 107: Tara: cards: 39, stash:0   Aadhi: cards:13, stash:0\n",
      "round 108: Tara: cards: 40, stash:0   Aadhi: cards:12, stash:0\n",
      "round 109: Tara: cards: 39, stash:0   Aadhi: cards:13, stash:0\n",
      "round 110: Tara: cards: 40, stash:0   Aadhi: cards:12, stash:0\n",
      "round 111: Tara: cards: 39, stash:0   Aadhi: cards:13, stash:0\n",
      "round 112: Tara: cards: 38, stash:0   Aadhi: cards:14, stash:0\n",
      "round 113: Tara: cards: 39, stash:0   Aadhi: cards:13, stash:0\n",
      "round 114: Tara: cards: 38, stash:0   Aadhi: cards:14, stash:0\n",
      "round 115: Tara: cards: 39, stash:0   Aadhi: cards:13, stash:0\n",
      "round 116: Tara: cards: 40, stash:0   Aadhi: cards:12, stash:0\n",
      "round 117: Tara: cards: 39, stash:0   Aadhi: cards:13, stash:0\n",
      "round 118: Tara: cards: 38, stash:0   Aadhi: cards:14, stash:0\n",
      "round 119: Tara: cards: 35, stash:3   Aadhi: cards:11, stash:3\n",
      "round 120: Tara: cards: 42, stash:0   Aadhi: cards:10, stash:0\n",
      "round 121: Tara: cards: 43, stash:0   Aadhi: cards:9, stash:0\n",
      "round 122: Tara: cards: 44, stash:0   Aadhi: cards:8, stash:0\n",
      "round 123: Tara: cards: 45, stash:0   Aadhi: cards:7, stash:0\n",
      "round 124: Tara: cards: 46, stash:0   Aadhi: cards:6, stash:0\n",
      "round 125: Tara: cards: 47, stash:0   Aadhi: cards:5, stash:0\n",
      "round 126: Tara: cards: 46, stash:0   Aadhi: cards:6, stash:0\n",
      "round 127: Tara: cards: 43, stash:3   Aadhi: cards:3, stash:3\n",
      "round 128: Tara: cards: 50, stash:0   Aadhi: cards:2, stash:0\n",
      "round 129: Tara: cards: 49, stash:0   Aadhi: cards:3, stash:0\n",
      "round 130: Tara: cards: 48, stash:0   Aadhi: cards:4, stash:0\n",
      "round 131: Tara: cards: 49, stash:0   Aadhi: cards:3, stash:0\n",
      "round 132: Tara: cards: 50, stash:0   Aadhi: cards:2, stash:0\n",
      "round 133: Tara: cards: 49, stash:0   Aadhi: cards:3, stash:0\n",
      "round 134: Tara: cards: 48, stash:0   Aadhi: cards:4, stash:0\n",
      "round 135: Tara: cards: 47, stash:0   Aadhi: cards:5, stash:0\n",
      "round 136: Tara: cards: 46, stash:0   Aadhi: cards:6, stash:0\n",
      "round 137: Tara: cards: 45, stash:0   Aadhi: cards:7, stash:0\n",
      "round 138: Tara: cards: 42, stash:3   Aadhi: cards:4, stash:3\n",
      "round 139: Tara: cards: 49, stash:0   Aadhi: cards:3, stash:0\n",
      "round 140: Tara: cards: 50, stash:0   Aadhi: cards:2, stash:0\n",
      "round 141: Tara: cards: 49, stash:0   Aadhi: cards:3, stash:0\n",
      "round 142: Tara: cards: 50, stash:0   Aadhi: cards:2, stash:0\n",
      "round 143: Tara: cards: 51, stash:0   Aadhi: cards:1, stash:0\n",
      "round 144: Tara: cards: 52, stash:0   Aadhi: cards:0, stash:0\n",
      "Tara won\n"
     ]
    }
   ],
   "source": [
    "if __name__ == \"__main__\":\n",
    "    deck=Deck()\n",
    "    deck.shuffle()\n",
    "    play_war(deck)"
   ]
  },
  {
   "cell_type": "code",
   "execution_count": null,
   "metadata": {},
   "outputs": [],
   "source": []
  },
  {
   "cell_type": "code",
   "execution_count": null,
   "metadata": {},
   "outputs": [],
   "source": []
  }
 ],
 "metadata": {
  "kernelspec": {
   "display_name": "Python 3",
   "language": "python",
   "name": "python3"
  },
  "language_info": {
   "codemirror_mode": {
    "name": "ipython",
    "version": 3
   },
   "file_extension": ".py",
   "mimetype": "text/x-python",
   "name": "python",
   "nbconvert_exporter": "python",
   "pygments_lexer": "ipython3",
   "version": "3.7.6"
  }
 },
 "nbformat": 4,
 "nbformat_minor": 4
}
